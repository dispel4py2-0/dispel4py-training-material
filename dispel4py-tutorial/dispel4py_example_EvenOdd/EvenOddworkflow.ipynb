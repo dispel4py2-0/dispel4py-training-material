{
 "cells": [
  {
   "cell_type": "markdown",
   "metadata": {},
   "source": [
    "# Even humans are odd!"
   ]
  },
  {
   "cell_type": "markdown",
   "metadata": {},
   "source": [
    "In this exercise we are going to create a dispel4py workflow that produces random numbers and it pairs them by (\"one odd\",\"one even\") pattern. As we introduced before, we have different types of PEs: Generic, Iterative, Producer, Consumerk, SimpleFunction, ... In this exercise we are going to get familiar with the following ones: **GenericPE**, **IterativePE** and **ProducerPE**. "
   ]
  },
  {
   "cell_type": "markdown",
   "metadata": {},
   "source": [
    "The first step is to create a PE class that produces a random integer number at the time in a range 1 to 1000, as we did in the \"prime\" workflow. \n",
    "\n",
    "Because this PE is our first one in this workflow and it has not any input streams, the most sensible choice is to use a **ProducerPE** type. However, we could also use a **GenericPE** type as well. Feel free to modify this ipython notebook to change it as you like. \n",
    "\n",
    "One quick comment about how to write data to the output streams. There are two options: \n",
    "\n",
    " * return: it only provides one value. Then the process method is finished. \n",
    " * self.write: it can produce one or more value(s) during processing. Then it can continue to process (e.g. providing one/several value(s) in a loop). \n",
    " \n",
    "For this PE we could use both formats, as you can see in the following code. You could comment the one that you like less. \n",
    "    "
   ]
  },
  {
   "cell_type": "code",
   "execution_count": null,
   "metadata": {
    "collapsed": true
   },
   "outputs": [],
   "source": [
    "from dispel4py.base import ProducerPE\n",
    "import random\n",
    "\n",
    "class NumberProducer(ProducerPE):\n",
    "    def __init__(self):\n",
    "        ProducerPE.__init__(self)\n",
    "        \n",
    "    def _process(self , inputs):\n",
    "        result= random.randint(1, 1000)\n",
    "        return result\n",
    "        #OR: self.write('output', result)"
   ]
  },
  {
   "cell_type": "markdown",
   "metadata": {},
   "source": [
    "After building the \"NumberProducer\" PE class, its output stream will be sent to another PE class (Divideby2) to determine if the number that has just been produced is even or odd. One way to perform this task is by dividing the the number by 2 and checking the reminder. If the reminder **is equal 0**, the number is **even**. Otherwise the number is **odd**. We are going to use a parameter (called \"compare\") for comparing the reminder with **0** and **1**, and therefore reuse the same PE class for getting the answer (odd or even). \n",
    "\n",
    "Because this PE class needs only 1 input and produces **0** or **1** output, we are going to create it by using a IterativePE type. \n"
   ]
  },
  {
   "cell_type": "code",
   "execution_count": null,
   "metadata": {
    "collapsed": true
   },
   "outputs": [],
   "source": [
    "from dispel4py.base import IterativePE\n",
    "\n",
    "class Divideby2(IterativePE):\n",
    "\n",
    "    def __init__(self, compare):\n",
    "        IterativePE.__init__(self)\n",
    "        self.compare = compare\n",
    "\n",
    "    def _process(self, data):\n",
    "        if data % 2 == self.compare:\n",
    "            return data"
   ]
  },
  {
   "cell_type": "markdown",
   "metadata": {},
   "source": [
    "Finally, the last PE in this workflow is going to receive two inputs streams. This PE will require two lists for grouping even and odd numbers. Therefore, GenericPE type is going to be the choice for creating this PE class. This type of PE requires to add the input (\"odd\" and \"even\") and output (\"output\") streams in the **\\_\\_init\\_\\_** method. Because we need to store the data between different iterations, we create member variables in the **\\_\\_init\\_\\_** method.\n",
    "\n",
    "During the **\\_process** method of this PE, the numbers received through its inputs will be appended to one list or another.  \n",
    "\n",
    "As you can imagine, those lists can be imbalanced and one could have more elements than the other (because the producer PE has randomly generated more odd numbers than even, or the other way around). Therefore, in order to check if there are the numbers that have not been paired up (or \"left over\"), we can use the **\\_postprocess** method for printing out which data has not be paired before. The **\\_postprocess** method is launched only **once** per PE after all processing has completed. "
   ]
  },
  {
   "cell_type": "code",
   "execution_count": null,
   "metadata": {
    "collapsed": true
   },
   "outputs": [],
   "source": [
    "from dispel4py.core import GenericPE\n",
    "\n",
    "class PairProducer(GenericPE):\n",
    "\n",
    "    def __init__(self):\n",
    "        GenericPE.__init__(self)\n",
    "        self._add_input(\"odd\")\n",
    "        self._add_input(\"even\")\n",
    "        self._add_output(\"output\")\n",
    "        self.list_odd=[]\n",
    "        self.list_even=[]\n",
    "\n",
    "    def _process(self, inputs):\n",
    "        if \"odd\" in inputs:\n",
    "            self.list_odd.append(inputs[\"odd\"])\n",
    "        if \"even\" in inputs:\n",
    "            self.list_even.append(inputs[\"even\"])\n",
    "       \n",
    "        while self.list_odd and self.list_even:\n",
    "            self.write(\"output\", (self.list_odd.pop(0), self.list_even.pop(0)))\n",
    "    \n",
    "    def _postprocess(self):\n",
    "        self.log('We are left behind: odd: %s, even: %s' % (self.list_odd, self.list_even))\n",
    "        self.list_odd = []\n",
    "        self.list_even = []"
   ]
  },
  {
   "cell_type": "markdown",
   "metadata": {},
   "source": [
    "Now we only have to create the graph and connect the different PEs. \n",
    "Note that we create two PEs (filter_even and filter_odd) of the same type (Divideby2) to decide whether a number is odd or even. The output stream from the producer is connected to both filter PEs meaning that they both receive a copy of the same stream."
   ]
  },
  {
   "cell_type": "code",
   "execution_count": null,
   "metadata": {
    "collapsed": false
   },
   "outputs": [],
   "source": [
    "from dispel4py.workflow_graph import WorkflowGraph\n",
    "\n",
    "producer = NumberProducer()\n",
    "filter_even = Divideby2(0)\n",
    "filter_odd = Divideby2(1)\n",
    "pair = PairProducer()\n",
    "\n",
    "graph = WorkflowGraph()\n",
    "graph.connect(producer, 'output', filter_even, 'input')\n",
    "graph.connect(producer, 'output', filter_odd, 'input')\n",
    "graph.connect(filter_even, 'output', pair, 'even')\n",
    "graph.connect(filter_odd, 'output', pair, 'odd')"
   ]
  },
  {
   "cell_type": "markdown",
   "metadata": {},
   "source": [
    "Finally, let's run this workflow with the sequential simple processor as we did before.\n"
   ]
  },
  {
   "cell_type": "code",
   "execution_count": null,
   "metadata": {
    "collapsed": false
   },
   "outputs": [],
   "source": [
    "from dispel4py.new.simple_process import process as simple_process\n",
    "simple_process(graph, {producer: 20})"
   ]
  }
 ],
 "metadata": {
  "kernelspec": {
   "display_name": "Python 2",
   "language": "python",
   "name": "python2"
  },
  "language_info": {
   "codemirror_mode": {
    "name": "ipython",
    "version": 2
   },
   "file_extension": ".py",
   "mimetype": "text/x-python",
   "name": "python",
   "nbconvert_exporter": "python",
   "pygments_lexer": "ipython2",
   "version": "2.7.10"
  }
 },
 "nbformat": 4,
 "nbformat_minor": 0
}
