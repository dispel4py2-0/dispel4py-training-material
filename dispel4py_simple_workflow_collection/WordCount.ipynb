{
 "cells": [
  {
   "cell_type": "markdown",
   "metadata": {},
   "source": [
    "## The data streaming classic: WordCount!!"
   ]
  },
  {
   "cell_type": "markdown",
   "metadata": {},
   "source": [
    " We can not leave this tutorial without a streaming classic example. WordCount example reads a text and counts how often words occur. "
   ]
  },
  {
   "cell_type": "code",
   "execution_count": 32,
   "metadata": {
    "collapsed": true
   },
   "outputs": [],
   "source": [
    "from dispel4py.core import GenericPE\n",
    "\n",
    "class SplitLines(GenericPE):\n",
    "\n",
    "    def __init__(self):\n",
    "        GenericPE.__init__(self)\n",
    "        self._add_input(\"input\")\n",
    "        self._add_output(\"output\")\n",
    "        \n",
    "    def _process(self, inputs):\n",
    "        for line in inputs[\"input\"].splitlines():\n",
    "            self.write(\"output\", line)"
   ]
  },
  {
   "cell_type": "code",
   "execution_count": 33,
   "metadata": {
    "collapsed": true
   },
   "outputs": [],
   "source": [
    "from dispel4py.base import IterativePE\n",
    "\n",
    "class SplitWords(IterativePE):\n",
    "\n",
    "    def __init__(self):\n",
    "        IterativePE.__init__(self)\n",
    "        \n",
    "    def _process(self, data):\n",
    "        for word in data.split(\" \"):\n",
    "            self.write(\"output\", (word,1))"
   ]
  },
  {
   "cell_type": "code",
   "execution_count": 34,
   "metadata": {
    "collapsed": false
   },
   "outputs": [],
   "source": [
    "from collections import defaultdict\n",
    "\n",
    "class CountWords(GenericPE):\n",
    "    def __init__(self):\n",
    "        GenericPE.__init__(self)\n",
    "        self._add_input(\"input\", grouping=[0])\n",
    "        self._add_output(\"output\")\n",
    "        self.count=defaultdict(int)\n",
    "        \n",
    "    def _process(self, inputs):\n",
    "        word, count = inputs['input']\n",
    "        self.count[word] += count\n",
    "    \n",
    "    def _postprocess(self):\n",
    "        self.write('output', self.count)"
   ]
  },
  {
   "cell_type": "code",
   "execution_count": 35,
   "metadata": {
    "collapsed": false
   },
   "outputs": [],
   "source": [
    "from dispel4py.workflow_graph import WorkflowGraph\n",
    "\n",
    "split = SplitLines()\n",
    "words = SplitWords()\n",
    "count = CountWords()\n",
    "\n",
    "graph = WorkflowGraph()\n",
    "graph.connect(split, 'output', words, 'input')\n",
    "graph.connect(words, 'output', count, 'input')\n"
   ]
  },
  {
   "cell_type": "code",
   "execution_count": 36,
   "metadata": {
    "collapsed": false
   },
   "outputs": [
    {
     "name": "stdout",
     "output_type": "stream",
     "text": [
      "Inputs: {'SplitLines15': [{'input': 'Hello Hello algo mas World World'}]}\n",
      "SimplePE: Processed 1 iteration.\n",
      "Outputs: {'CountWords17': {'output': [defaultdict(<type 'int'>, {'World': 2, 'mas': 1, 'Hello': 2, 'algo': 1})]}}\n"
     ]
    }
   ],
   "source": [
    "from dispel4py.new.simple_process import process as simple_process\n",
    "simple_process(graph, {split: [ {'input' : \"Hello Hello algo mas World World\"}] })"
   ]
  },
  {
   "cell_type": "code",
   "execution_count": null,
   "metadata": {
    "collapsed": true
   },
   "outputs": [],
   "source": []
  },
  {
   "cell_type": "code",
   "execution_count": null,
   "metadata": {
    "collapsed": true
   },
   "outputs": [],
   "source": []
  },
  {
   "cell_type": "code",
   "execution_count": null,
   "metadata": {
    "collapsed": true
   },
   "outputs": [],
   "source": []
  }
 ],
 "metadata": {
  "kernelspec": {
   "display_name": "Python 2",
   "language": "python",
   "name": "python2"
  },
  "language_info": {
   "codemirror_mode": {
    "name": "ipython",
    "version": 2
   },
   "file_extension": ".py",
   "mimetype": "text/x-python",
   "name": "python",
   "nbconvert_exporter": "python",
   "pygments_lexer": "ipython2",
   "version": "2.7.8"
  }
 },
 "nbformat": 4,
 "nbformat_minor": 0
}
