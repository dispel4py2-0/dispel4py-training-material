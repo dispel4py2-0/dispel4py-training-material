{
 "cells": [
  {
   "cell_type": "markdown",
   "metadata": {},
   "source": [
    "# Testing your installation "
   ]
  },
  {
   "cell_type": "markdown",
   "metadata": {},
   "source": [
    "If you have installed dispel4py correctly, you can easily run this first test called ``pipeline_test.py``. This is a dispel4py graph which produces a pipeline workflow with one producer node and 5 consumer nodes. "
   ]
  },
  {
   "cell_type": "markdown",
   "metadata": {},
   "source": [
    "Remenber that first you need to have installed dispel4py:\n",
    "\n",
    "    >> pip install dispel4py\n",
    "    \n",
    "Try running this example: (note that \"!\" at the start of the line executes the command in a shell)     "
   ]
  },
  {
   "cell_type": "code",
   "execution_count": 1,
   "metadata": {
    "collapsed": false
   },
   "outputs": [
    {
     "name": "stdout",
     "output_type": "stream",
     "text": [
      "Processing 10 iterations.\r\n",
      "Inputs: {'TestProducer0': 10}\r\n",
      "SimplePE: Processed 1 iteration.\r\n",
      "Outputs: {'TestOneInOneOut5': {'output': [1, 2, 3, 4, 5, 6, 7, 8, 9, 10]}}\r\n"
     ]
    }
   ],
   "source": [
    "!dispel4py simple dispel4py.examples.graph_testing.pipeline_test -i 10"
   ]
  },
  {
   "cell_type": "markdown",
   "metadata": {
    "collapsed": true
   },
   "source": [
    "Now let's test your installation with the example that you have followed during the presentation (slides - Tutorial dispel4py basic I): "
   ]
  },
  {
   "cell_type": "markdown",
   "metadata": {},
   "source": [
    "## Check prime number"
   ]
  },
  {
   "cell_type": "markdown",
   "metadata": {},
   "source": [
    "We create three classes of PEs:\n",
    "* one that produces random integers\n",
    "* one that checks whether an integer is a prime\n",
    "* one that prints out the numbers it receives"
   ]
  },
  {
   "cell_type": "code",
   "execution_count": 2,
   "metadata": {
    "collapsed": true
   },
   "outputs": [],
   "source": [
    "from dispel4py.base import ProducerPE, IterativePE, ConsumerPE\n",
    "from dispel4py.workflow_graph import WorkflowGraph\n",
    "import random\n",
    "\n",
    "class NumberProducer(ProducerPE):\n",
    "    def __init__(self):\n",
    "        ProducerPE.__init__(self)\n",
    "        \n",
    "    def _process(self):\n",
    "        # this PE produces one input\n",
    "        result= random.randint(1, 1000)\n",
    "        return result\n",
    "\n",
    "class IsPrime(IterativePE):\n",
    "    def __init__(self):\n",
    "        IterativePE.__init__(self)\n",
    "    def _process(self, num):\n",
    "        # this PE consumes one input and produces one output\n",
    "        self.log(\"before checking data - %s - is prime or not\" % num)\n",
    "        if all(num % i for i in range(2, num)):\n",
    "            return num\n",
    "\n",
    "class PrintPrime(ConsumerPE):\n",
    "    def __init__(self):\n",
    "        ConsumerPE.__init__(self)\n",
    "    def _process(self, num):\n",
    "        # this PE consumes one input\n",
    "        self.log(\"the number %s is prime\" % num)"
   ]
  },
  {
   "cell_type": "markdown",
   "metadata": {},
   "source": [
    "We create a PE from each type above and connect them together to form a graph."
   ]
  },
  {
   "cell_type": "code",
   "execution_count": 3,
   "metadata": {
    "collapsed": false
   },
   "outputs": [],
   "source": [
    "producer = NumberProducer()\n",
    "isprime = IsPrime()\n",
    "printprime = PrintPrime()\n",
    "\n",
    "graph = WorkflowGraph()\n",
    "graph.connect(producer, 'output', isprime, 'input')\n",
    "graph.connect(isprime, 'output', printprime, 'input')"
   ]
  },
  {
   "cell_type": "markdown",
   "metadata": {},
   "source": [
    "We will now run the workflow in the notebook by using a handy function called \"simple_process\":\n",
    "This function allows us to execute a graph, by indicating the first PE that produces the data and the number of iterations that we want to run, for example:\n",
    "\n",
    "    simple_process(graph, {producer: 1})\n",
    "\n",
    "This runs 1 iteration of the graph."
   ]
  },
  {
   "cell_type": "code",
   "execution_count": 4,
   "metadata": {
    "collapsed": false
   },
   "outputs": [
    {
     "name": "stdout",
     "output_type": "stream",
     "text": [
      "Inputs: {'NumberProducer0': 5}\n",
      "IsPrime1: before checking data - 689 - is prime or not\n",
      "IsPrime1: before checking data - 796 - is prime or not\n",
      "IsPrime1: before checking data - 438 - is prime or not\n",
      "IsPrime1: before checking data - 744 - is prime or not\n",
      "IsPrime1: before checking data - 439 - is prime or not\n",
      "PrintPrime2: the number 439 is prime\n",
      "SimplePE: Processed 1 iteration.\n",
      "Outputs: {}\n"
     ]
    }
   ],
   "source": [
    "from dispel4py.new.simple_process import process as simple_process\n",
    "simple_process(graph, {producer: 5})"
   ]
  }
 ],
 "metadata": {
  "kernelspec": {
   "display_name": "Python 2",
   "language": "python",
   "name": "python2"
  },
  "language_info": {
   "codemirror_mode": {
    "name": "ipython",
    "version": 2
   },
   "file_extension": ".py",
   "mimetype": "text/x-python",
   "name": "python",
   "nbconvert_exporter": "python",
   "pygments_lexer": "ipython2",
   "version": "2.7.6"
  }
 },
 "nbformat": 4,
 "nbformat_minor": 0
}
