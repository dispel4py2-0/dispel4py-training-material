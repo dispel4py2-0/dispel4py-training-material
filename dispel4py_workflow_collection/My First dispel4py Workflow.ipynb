{
 "cells": [
  {
   "cell_type": "markdown",
   "metadata": {},
   "source": [
    "# How to create my first dispel4py workflow"
   ]
  },
  {
   "cell_type": "markdown",
   "metadata": {},
   "source": [
    "This tutorial is an introduction to dispel4py. We will see how to write dispel4py PEs, how to connect them together to form a workflow and how this workflow is executed in different environments."
   ]
  },
  {
   "cell_type": "markdown",
   "metadata": {},
   "source": [
    "##How to write a PE\n",
    "\n",
    "In this section we are going to implement our first PE.\n",
    "\n",
    "First you need to decide what kind of processing the PE will do and what the data units are that it processes. In our example we are implementing a PE that decides if a number is divisible by another number. The PE is configured with this divisor and for each input data item it tests whether the number can be divided by this divisor. It sends the input data item to its output stream if it is not divisible.\n",
    "\n",
    "##Create a PE class\n",
    "\n",
    "To start with we create a PE that does only very few things:\n",
    "\n"
   ]
  },
  {
   "cell_type": "code",
   "execution_count": 1,
   "metadata": {
    "collapsed": true
   },
   "outputs": [],
   "source": [
    "from dispel4py.base import IterativePE\n",
    "\n",
    "class MyFirstPE(IterativePE):\n",
    "\n",
    "    def __init__(self, divisor):\n",
    "        IterativePE.__init__(self)\n",
    "        self.divisor = divisor\n"
   ]
  },
  {
   "cell_type": "markdown",
   "metadata": {},
   "source": [
    "In this case we extend the base class ``dispel4py.base.IterativePE`` which defines one input and one output, which is exactly what we need. We pass the divisor as an initialisation parameter to the object which stores it.\n",
    "\n",
    "##Implement the processing method\n",
    "\n",
    "Now the actual work begins: We have to implement the processing method. This is done by overriding the method of the superclass:"
   ]
  },
  {
   "cell_type": "code",
   "execution_count": 2,
   "metadata": {
    "collapsed": false
   },
   "outputs": [],
   "source": [
    "def _process(self, data):\n",
    "    None\n"
   ]
  },
  {
   "cell_type": "markdown",
   "metadata": {},
   "source": [
    "We fill in the processing commands, in our case this means that we test if the input data item is divisible by our divisor, and return it if it is not divisible:"
   ]
  },
  {
   "cell_type": "code",
   "execution_count": 3,
   "metadata": {
    "collapsed": true
   },
   "outputs": [],
   "source": [
    "def _process(self, data):\n",
    "    if not data % self.divisor:\n",
    "        return data"
   ]
  },
  {
   "cell_type": "markdown",
   "metadata": {},
   "source": [
    "The data returned by ``_process`` is written to the output stream of the PE.\n",
    "\n",
    "That’s it! Our first PE is complete:"
   ]
  },
  {
   "cell_type": "code",
   "execution_count": 4,
   "metadata": {
    "collapsed": true
   },
   "outputs": [],
   "source": [
    "from dispel4py.base import IterativePE\n",
    "\n",
    "class MyFirstPE(IterativePE):\n",
    "\n",
    "    def __init__(self, divisor):\n",
    "        IterativePE.__init__(self)\n",
    "        self.divisor = divisor\n",
    "\n",
    "    def _process(self, data):\n",
    "        if not data % self.divisor == 0:\n",
    "            return data"
   ]
  },
  {
   "cell_type": "markdown",
   "metadata": {},
   "source": [
    "##Create a simple workflow\n",
    "\n",
    "In this section we are going to create a workflow, using the PE that we implemented in the previous section. There’s a useful PE in the library of dispel4py PEs that just produces a sequence of numbers.\n",
    "\n",
    "We can connect this number producer to our PE which is initialised with the divisor 3 in this example:"
   ]
  },
  {
   "cell_type": "code",
   "execution_count": 5,
   "metadata": {
    "collapsed": true
   },
   "outputs": [],
   "source": [
    "from dispel4py.workflow_graph import WorkflowGraph\n",
    "from dispel4py.examples.graph_testing.testing_PEs import TestProducer\n",
    "\n",
    "producer = TestProducer()\n",
    "divide = MyFirstPE(3)\n",
    "\n",
    "graph = WorkflowGraph()\n",
    "graph.connect(producer, 'output', divide, 'input')"
   ]
  },
  {
   "cell_type": "markdown",
   "metadata": {},
   "source": [
    "This workflow produces integers and tests whether they are divisible by 3. Any numbers that are not divisible by 3 will be written to the unconnected output stream of our first PE."
   ]
  },
  {
   "cell_type": "markdown",
   "metadata": {},
   "source": [
    "##Execute the workflow\n",
    "\n",
    "To run this workflow you can use the sequential simple processor:"
   ]
  },
  {
   "cell_type": "code",
   "execution_count": 6,
   "metadata": {
    "collapsed": false
   },
   "outputs": [
    {
     "name": "stdout",
     "output_type": "stream",
     "text": [
      "Inputs: {'TestProducer0': 20}\n",
      "SimplePE: Processed 1 iteration.\n",
      "Outputs: {'MyFirstPE1': {'output': [1, 2, 4, 5, 7, 8, 10, 11, 13, 14, 16, 17, 19, 20]}}\n"
     ]
    }
   ],
   "source": [
    "from dispel4py.new.simple_process import process as simple_process\n",
    "simple_process(graph, {producer: 20})"
   ]
  },
  {
   "cell_type": "markdown",
   "metadata": {},
   "source": [
    "The input of this workflow is the number of iterations that the producer PE executes, in our case 20, resulting in the stream of integers from 1 to 20.\n",
    "\n",
    "The output of this workflow are the integers in the range from 1 to 20 which are not divisible by 3.\n",
    "\n",
    "In the output above, you can see that PEs are assigned an integer ID to uniquely identify them within the graph, as you can use more than one PE of the same kind in a graph. In this graph the producer PE is assigned the ID ``TestProducer0`` which is a combination of its class name and a number, and ``MyFirstPE1`` is the ID of our own PE."
   ]
  },
  {
   "cell_type": "markdown",
   "metadata": {},
   "source": [
    "##Write a data producer PE\n",
    "###Producing the input\n",
    "\n",
    "Next we will create a ProducerPE that creates the input for our first PE. The test producer that we were using above only produces one number per iteration. In our case we would like to create a PE that produces all the numbers from 2 up to a certain limit.\n",
    "\n",
    "The implementation looks like this:"
   ]
  },
  {
   "cell_type": "code",
   "execution_count": 7,
   "metadata": {
    "collapsed": true
   },
   "outputs": [],
   "source": [
    "from dispel4py.base import ProducerPE\n",
    "\n",
    "class NumberProducer(ProducerPE):\n",
    "    def __init__(self, start, limit):\n",
    "        ProducerPE.__init__(self)\n",
    "        self.start = start\n",
    "        self.limit = limit\n",
    "    def _process(self):\n",
    "        for i in xrange(self.start, self.limit):\n",
    "            self.write('output', i)\n",
    "            # OR: self.write(\"ProducerPE.OUTPUT_NAME\", i)"
   ]
  },
  {
   "cell_type": "markdown",
   "metadata": {},
   "source": [
    "This introduces several new concepts. The ProducerPE is a base class which has no inputs and one output ``ProducerPE.OUTPUT_NAME`` or ``\"output\"``. We initialise an instance of the NumberProducer PE with the lower and upper bounds for the integers that we want to produce.\n",
    "\n",
    "In the implementation of the `_process()` method we iterate over the range of numbers from the lower bound up to (and excluding) the upper bound. Since the processing method generates more than one data item we have to write them one at a time to the output data stream using the ``write()`` method.\n",
    "\n",
    "### Using the producer in the workflow\n",
    "\n",
    "Now we hook our own producer into the workflow, replacing the TestProducer from the dispel4py library:"
   ]
  },
  {
   "cell_type": "code",
   "execution_count": 8,
   "metadata": {
    "collapsed": false
   },
   "outputs": [],
   "source": [
    "from dispel4py.workflow_graph import WorkflowGraph\n",
    "\n",
    "producer = NumberProducer(2, 100)\n",
    "divide = MyFirstPE(3)\n",
    "\n",
    "graph = WorkflowGraph()\n",
    "graph.connect(producer, 'output', divide, 'input')"
   ]
  },
  {
   "cell_type": "markdown",
   "metadata": {},
   "source": [
    "Everything else stays the same. We create an instance of the NumberProducer that outputs the range of numbers from 2 to 99 (excluding the upper bound of 100).\n",
    "\n",
    "Now execute the new workflow using the simple mapping:"
   ]
  },
  {
   "cell_type": "code",
   "execution_count": 9,
   "metadata": {
    "collapsed": false
   },
   "outputs": [
    {
     "name": "stdout",
     "output_type": "stream",
     "text": [
      "Inputs: {'NumberProducer2': 1}\n",
      "SimplePE: Processed 1 iteration.\n",
      "Outputs: {'MyFirstPE3': {'output': [2, 4, 5, 7, 8, 10, 11, 13, 14, 16, 17, 19, 20, 22, 23, 25, 26, 28, 29, 31, 32, 34, 35, 37, 38, 40, 41, 43, 44, 46, 47, 49, 50, 52, 53, 55, 56, 58, 59, 61, 62, 64, 65, 67, 68, 70, 71, 73, 74, 76, 77, 79, 80, 82, 83, 85, 86, 88, 89, 91, 92, 94, 95, 97, 98]}}\n"
     ]
    }
   ],
   "source": [
    "simple_process(graph, {producer: 1})"
   ]
  },
  {
   "cell_type": "markdown",
   "metadata": {},
   "source": [
    "The output is the list of numbers in the range from 2 to 99 that are not divisible by 3.\n",
    "\n",
    "Note that now the producer only execute once as the iterations are handled within the processing method of the PE."
   ]
  },
  {
   "cell_type": "markdown",
   "metadata": {},
   "source": [
    "## Running the workflow in the command line\n",
    "\n",
    "You should save the PEs (NumberProducer, MyFristPE) and the graph as myfirstgraph.py file. Once saved, you could run it using the sequential simple processor:\n",
    "\n",
    "    $ dispel4py simple myfirstgraph.py\n",
    "\n",
    "\n"
   ]
  },
  {
   "cell_type": "markdown",
   "metadata": {},
   "source": [
    "##Parallel processing¶\n",
    "\n",
    "For this very simple case we can easily parallelise the execution of the workflow. To do this we use the dispel4py multi mapping that executes a workflow in multiple processes using the Python multiprocessing [1] library:\n",
    "\n",
    "    $ dispel4py multi myfirstgraph.py -n 4\n",
    "    Processing 1 iteration.\n",
    "    Processes: {'MyFirstPE3': [1, 2, 3], 'NumberProducer2': [0]}\n",
    "    MyFirstPE3 (rank 1): Processed 33 iterations.\n",
    "    NumberProducer2 (rank 0): Processed 1 iteration.\n",
    "    MyFirstPE3 (rank 3): Processed 32 iterations.\n",
    "    MyFirstPE3 (rank 2): Processed 33 iterations.\n",
    "\n",
    "This example executes the workflow using 4 processes. This line:\n",
    "\n",
    "    Processes: {'MyFirstPE3': [1, 2, 3], 'NumberProducer2': [0]}\n",
    "\n",
    "shows which PE is assigned to which processes. In this case, MyFirstPE is assigned to processes 1, 2 and 3, so there three parallel instances. These instances each process about a third of the data, as you can see from the output of the instances when processing is complete:\n",
    "\n",
    "    MyFirstPE3 (rank 1): Processed 33 iterations.\n",
    "    MyFirstPE3 (rank 2): Processed 33 iterations.\n",
    "    MyFirstPE3 (rank 3): Processed 32 iterations.\n",
    "\n",
    "Note that when executing in a parallel environment the output from each PE is not collected as in the simple mapping. You are responsible for collecting this output and printing or storing it."
   ]
  },
  {
   "cell_type": "markdown",
   "metadata": {
    "collapsed": true
   },
   "source": [
    "##References\n",
    "[1]\thttps://docs.python.org/2/library/multiprocessing.html"
   ]
  },
  {
   "cell_type": "code",
   "execution_count": null,
   "metadata": {
    "collapsed": true
   },
   "outputs": [],
   "source": []
  }
 ],
 "metadata": {
  "kernelspec": {
   "display_name": "Python 2",
   "language": "python",
   "name": "python2"
  },
  "language_info": {
   "codemirror_mode": {
    "name": "ipython",
    "version": 2
   },
   "file_extension": ".py",
   "mimetype": "text/x-python",
   "name": "python",
   "nbconvert_exporter": "python",
   "pygments_lexer": "ipython2",
   "version": "2.7.8"
  }
 },
 "nbformat": 4,
 "nbformat_minor": 0
}
