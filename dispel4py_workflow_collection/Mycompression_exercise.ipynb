{
 "cells": [
  {
   "cell_type": "markdown",
   "metadata": {},
   "source": [
    "# Compress random strings"
   ]
  },
  {
   "cell_type": "markdown",
   "metadata": {},
   "source": [
    "Let's do now a simple exercise that wraps the basic knowledges that we have learnt today:\n",
    "    * Create ProducerPE, IterativePE, ConsumerPE PEs. \n",
    "    * Give input parameters to a PE\n",
    "    * Produce 1 output stream \n",
    "    * Produce more than one ouptut stream\n",
    "    * Create a Graph\n",
    "    * Connect PEs\n",
    "    * Run a Graph\n",
    "\n",
    "For the next exercise, you will have to:\n",
    "    * Create a PE that generates random string which the lengh specified by a parameter.\n",
    "    * Create a PE that compresses the string by using zlib compression algorithm and produces an output stream that returns a tuple (compress_zlib and original_string ) \n",
    "        ** zlib.compress(original_string)\n",
    "        ** self.write(\"output\", [original_string, compress_string])\n",
    "    * Create a PE that decompresses the compressed_string and checks that it is equal to the original string.  \n",
    "        ** zlib.decompress(compress_string)\n",
    "    * Create a graph that connect the three PEs created\n",
    "    * Run the graph:\n",
    "        ** from dispel4py.new.simple_process import process as simple_process\n",
    "        ** simple_process(graph, {producer: 1})\n"
   ]
  },
  {
   "cell_type": "markdown",
   "metadata": {},
   "source": [
    "The id_generate() function generates a random string. You could used it later in the first PE. "
   ]
  },
  {
   "cell_type": "code",
   "execution_count": null,
   "metadata": {
    "collapsed": true
   },
   "outputs": [],
   "source": [
    "import random\n",
    "import string\n",
    "import zlib\n",
    "def id_generator(size=6, chars=string.ascii_uppercase + string.digits):\n",
    "    return ''.join(random.choice(chars) for _ in range(size))"
   ]
  },
  {
   "cell_type": "code",
   "execution_count": 117,
   "metadata": {
    "collapsed": false
   },
   "outputs": [],
   "source": [
    "#from dispel4py.base import ProducerPE\n",
    "\n",
    "#class StringProducer(ProducerPE):\n",
    "#    def __init__(self, length):\n",
    "       \n",
    "        \n",
    "#    def _process(self):\n",
    "\n",
    "     #...\n",
    "     #return random_string\n",
    "     "
   ]
  },
  {
   "cell_type": "code",
   "execution_count": null,
   "metadata": {
    "collapsed": false
   },
   "outputs": [],
   "source": [
    "#from dispel4py.base import IterativePE\n",
    "\n",
    "#class ZlibCompression(IterativePE):\n",
    "\n",
    "#    def __init__(self):\n",
    "#        IterativePE.__init__(self)\n",
    "     \n",
    "#    def process(self, data):\n",
    "         #original_string=data['input']\n",
    "         # ....\n",
    "         \n",
    "       \n",
    "    \n",
    "       \n",
    "        \n"
   ]
  },
  {
   "cell_type": "code",
   "execution_count": null,
   "metadata": {
    "collapsed": false
   },
   "outputs": [],
   "source": [
    "#from dispel4py.base import ConsumerPE\n",
    "\n",
    "#class ZlibDeCompression(ConsumerPE):\n",
    "\n",
    "#    def __init__(self):\n",
    "       \n",
    "\n",
    "#    def process(self, data):\n",
    "        #original_string=data[\"input\"][0]\n",
    "        #....\n",
    "     \n",
    "     \n",
    "       \n",
    "        \n",
    "       "
   ]
  },
  {
   "cell_type": "code",
   "execution_count": null,
   "metadata": {
    "collapsed": false
   },
   "outputs": [],
   "source": [
    "#from dispel4py.workflow_graph import WorkflowGraph\n",
    "#create PEs\n",
    "\n",
    "\n",
    "\n",
    "#create graph\n",
    "#graph = WorkflowGraph()\n",
    "#connect the PEs in the graph \n",
    "\n",
    "\n",
    "\n",
    "\n"
   ]
  },
  {
   "cell_type": "markdown",
   "metadata": {},
   "source": [
    "Execute the workflow\n",
    "\n",
    "To run this workflow you can use the sequential simple processor in the ipython notebook:\n"
   ]
  },
  {
   "cell_type": "code",
   "execution_count": null,
   "metadata": {
    "collapsed": false
   },
   "outputs": [],
   "source": [
    "from dispel4py.new.simple_process import process as simple_process\n",
    "simple_process(graph, {producer: 1})"
   ]
  },
  {
   "cell_type": "markdown",
   "metadata": {},
   "source": [
    "if your run the exercise as an script comment the previous line, and write this one in your command line:\n",
    "    dispel4py simple Mycompression_example.py "
   ]
  }
 ],
 "metadata": {
  "kernelspec": {
   "display_name": "Python 2",
   "language": "python",
   "name": "python2"
  },
  "language_info": {
   "codemirror_mode": {
    "name": "ipython",
    "version": 2
   },
   "file_extension": ".py",
   "mimetype": "text/x-python",
   "name": "python",
   "nbconvert_exporter": "python",
   "pygments_lexer": "ipython2",
   "version": "2.7.8"
  }
 },
 "nbformat": 4,
 "nbformat_minor": 0
}
